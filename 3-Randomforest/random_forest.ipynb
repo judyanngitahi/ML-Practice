{
 "cells": [
  {
   "cell_type": "code",
   "execution_count": null,
   "metadata": {},
   "outputs": [],
   "source": [
    "# Random forests is an ensemble learnign method that uses multiple algorithms to obtain better predictive perfomance\n",
    "# random forests make multiple decision trees that are each independent and random\n",
    "# each forest makes its own prediction, and the average of the average of the trees is used (regression) or the most commonly predicted (classification)\n",
    "\n",
    "import pandas as pd\n",
    "import numpy as np \n",
    "import pandas as pd \n",
    "import matplotlib.pyplot as plt\n",
    "import seaborn as sns \n",
    "\n",
    "%matplotlib inline\n",
    "\n",
    "car_data =pd.read_csv('/Users/judygitahi/Code/upgraded-potato/3-Randomforest/car_evaluation.csv')\n",
    "car_data.shape()\n",
    "car_data.head()"
   ]
  }
 ],
 "metadata": {
  "kernelspec": {
   "display_name": "Python 3.8.7 64-bit",
   "name": "python387jvsc74a57bd04cd7ab41f5fca4b9b44701077e38c5ffd31fe66a6cab21e0214b68d958d0e462"
  },
  "language_info": {
   "name": "python",
   "version": ""
  },
  "metadata": {
   "interpreter": {
    "hash": "4cd7ab41f5fca4b9b44701077e38c5ffd31fe66a6cab21e0214b68d958d0e462"
   }
  },
  "orig_nbformat": 2
 },
 "nbformat": 4,
 "nbformat_minor": 2
}