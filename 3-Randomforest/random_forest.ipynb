{
 "cells": [
  {
   "cell_type": "code",
   "execution_count": 48,
   "metadata": {},
   "outputs": [
    {
     "data": {
      "text/plain": "(1727, 7)"
     },
     "execution_count": 48,
     "metadata": {},
     "output_type": "execute_result"
    }
   ],
   "source": [
    "# Random forests is an ensemble learning method that uses multiple algorithms to obtain better predictive perfomance\n",
    "# random forests make multiple decision trees that are each independent and random\n",
    "# each forest makes its own prediction, and the average of the average of the trees is used (regression) or the most commonly predicted (classification)\n",
    "\n",
    "import pandas as pd\n",
    "import numpy as np \n",
    "import pandas as pd \n",
    "import matplotlib.pyplot as plt\n",
    "import seaborn as sns \n",
    "import category_encoders as ce\n",
    "from sklearn.metrics import accuracy_score\n",
    "from sklearn.ensemble import RandomForestClassifier\n",
    "\n",
    "%matplotlib inline\n",
    "\n",
    "car_data =pd.read_csv('/Users/judygitahi/Code/upgraded-potato/3-Randomforest/car_evaluation.csv')\n",
    "car_data.shape"
   ]
  },
  {
   "cell_type": "code",
   "execution_count": 49,
   "metadata": {},
   "outputs": [
    {
     "data": {
      "text/plain": "<bound method NDFrame.head of       vhigh vhigh.1      2   2.1  small   low  unacc\n0     vhigh   vhigh      2     2  small   med  unacc\n1     vhigh   vhigh      2     2  small  high  unacc\n2     vhigh   vhigh      2     2    med   low  unacc\n3     vhigh   vhigh      2     2    med   med  unacc\n4     vhigh   vhigh      2     2    med  high  unacc\n...     ...     ...    ...   ...    ...   ...    ...\n1722    low     low  5more  more    med   med   good\n1723    low     low  5more  more    med  high  vgood\n1724    low     low  5more  more    big   low  unacc\n1725    low     low  5more  more    big   med   good\n1726    low     low  5more  more    big  high  vgood\n\n[1727 rows x 7 columns]>"
     },
     "execution_count": 49,
     "metadata": {},
     "output_type": "execute_result"
    }
   ],
   "source": [
    "car_data.head"
   ]
  },
  {
   "cell_type": "code",
   "execution_count": 50,
   "metadata": {},
   "outputs": [
    {
     "data": {
      "text/plain": "<bound method NDFrame.head of      buying price maintenance cost  doors persons lug boot safety decision\n0           vhigh            vhigh      2       2    small    med    unacc\n1           vhigh            vhigh      2       2    small   high    unacc\n2           vhigh            vhigh      2       2      med    low    unacc\n3           vhigh            vhigh      2       2      med    med    unacc\n4           vhigh            vhigh      2       2      med   high    unacc\n...           ...              ...    ...     ...      ...    ...      ...\n1722          low              low  5more    more      med    med     good\n1723          low              low  5more    more      med   high    vgood\n1724          low              low  5more    more      big    low    unacc\n1725          low              low  5more    more      big    med     good\n1726          low              low  5more    more      big   high    vgood\n\n[1727 rows x 7 columns]>"
     },
     "execution_count": 50,
     "metadata": {},
     "output_type": "execute_result"
    }
   ],
   "source": [
    "columns =['buying price', 'maintenance cost', 'doors', 'persons','lug boot', 'safety', 'decision']\n",
    "car_data.columns = columns\n",
    "car_data.head"
   ]
  },
  {
   "cell_type": "code",
   "execution_count": 51,
   "metadata": {},
   "outputs": [
    {
     "data": {
      "text/plain": "<bound method DataFrame.info of      buying price maintenance cost  doors persons lug boot safety decision\n0           vhigh            vhigh      2       2    small    med    unacc\n1           vhigh            vhigh      2       2    small   high    unacc\n2           vhigh            vhigh      2       2      med    low    unacc\n3           vhigh            vhigh      2       2      med    med    unacc\n4           vhigh            vhigh      2       2      med   high    unacc\n...           ...              ...    ...     ...      ...    ...      ...\n1722          low              low  5more    more      med    med     good\n1723          low              low  5more    more      med   high    vgood\n1724          low              low  5more    more      big    low    unacc\n1725          low              low  5more    more      big    med     good\n1726          low              low  5more    more      big   high    vgood\n\n[1727 rows x 7 columns]>"
     },
     "execution_count": 51,
     "metadata": {},
     "output_type": "execute_result"
    }
   ],
   "source": [
    "car_data.info"
   ]
  },
  {
   "cell_type": "code",
   "execution_count": 52,
   "metadata": {},
   "outputs": [
    {
     "name": "stdout",
     "output_type": "stream",
     "text": [
      "[high     432\n",
      "med      432\n",
      "low      432\n",
      "vhigh    431\n",
      "Name: buying price, dtype: int64, high     432\n",
      "med      432\n",
      "low      432\n",
      "vhigh    431\n",
      "Name: maintenance cost, dtype: int64, 3        432\n",
      "4        432\n",
      "5more    432\n",
      "2        431\n",
      "Name: doors, dtype: int64, 4       576\n",
      "more    576\n",
      "2       575\n",
      "Name: persons, dtype: int64, med      576\n",
      "big      576\n",
      "small    575\n",
      "Name: lug boot, dtype: int64, med     576\n",
      "high    576\n",
      "low     575\n",
      "Name: safety, dtype: int64, unacc    1209\n",
      "acc       384\n",
      "good       69\n",
      "vgood      65\n",
      "Name: decision, dtype: int64]\n"
     ]
    }
   ],
   "source": [
    "\n",
    "print([car_data[col].value_counts() for col in columns])  "
   ]
  },
  {
   "cell_type": "code",
   "execution_count": 53,
   "metadata": {},
   "outputs": [
    {
     "data": {
      "text/plain": "buying price        0\nmaintenance cost    0\ndoors               0\npersons             0\nlug boot            0\nsafety              0\ndecision            0\ndtype: int64"
     },
     "execution_count": 53,
     "metadata": {},
     "output_type": "execute_result"
    }
   ],
   "source": [
    "car_data.isnull().sum()"
   ]
  },
  {
   "cell_type": "markdown",
   "metadata": {},
   "source": [
    "decision is the y variable, and we check and see that values are ordinal"
   ]
  },
  {
   "cell_type": "code",
   "execution_count": 54,
   "metadata": {},
   "outputs": [
    {
     "data": {
      "text/plain": "unacc    1209\nacc       384\ngood       69\nvgood      65\nName: decision, dtype: int64"
     },
     "execution_count": 54,
     "metadata": {},
     "output_type": "execute_result"
    }
   ],
   "source": [
    "car_data['decision'].value_counts()"
   ]
  },
  {
   "cell_type": "code",
   "execution_count": 55,
   "metadata": {},
   "outputs": [],
   "source": [
    "X = car_data.drop(['decision'], axis=1)"
   ]
  },
  {
   "cell_type": "code",
   "execution_count": 56,
   "metadata": {},
   "outputs": [],
   "source": [
    "y = car_data['decision']"
   ]
  },
  {
   "cell_type": "code",
   "execution_count": 57,
   "metadata": {},
   "outputs": [],
   "source": [
    "from sklearn.model_selection import train_test_split\n",
    "X_train, X_test, y_train, y_test = train_test_split(X, y, test_size = 0.25, random_state = 50)"
   ]
  },
  {
   "cell_type": "code",
   "execution_count": 58,
   "metadata": {},
   "outputs": [
    {
     "data": {
      "text/plain": "((1295, 6), (432, 6))"
     },
     "execution_count": 58,
     "metadata": {},
     "output_type": "execute_result"
    }
   ],
   "source": [
    "X_train.shape, X_test.shape"
   ]
  },
  {
   "cell_type": "markdown",
   "metadata": {},
   "source": [
    "Since we have a bunch of categorical variables that are ordinal (they have a particular order), we need to encode them"
   ]
  },
  {
   "cell_type": "code",
   "execution_count": 59,
   "metadata": {},
   "outputs": [
    {
     "name": "stderr",
     "output_type": "stream",
     "text": [
      "/Users/judygitahi/Library/Python/3.8/lib/python/site-packages/category_encoders/utils.py:21: FutureWarning: is_categorical is deprecated and will be removed in a future version.  Use is_categorical_dtype instead\n",
      "  elif pd.api.types.is_categorical(cols):\n"
     ]
    }
   ],
   "source": [
    "encoder = ce.OrdinalEncoder(cols=['buying price', 'maintenance cost', 'doors', 'persons','lug boot', 'safety'])\n",
    "\n",
    "X_train = encoder.fit_transform(X_train)\n",
    "\n",
    "X_test = encoder.transform(X_test)\n"
   ]
  },
  {
   "cell_type": "code",
   "execution_count": 60,
   "metadata": {},
   "outputs": [
    {
     "data": {
      "text/plain": "<bound method NDFrame.head of       buying price  maintenance cost  doors  persons  lug boot  safety\n153              1                 1      1        1         1       1\n1407             2                 1      2        2         2       1\n1488             2                 1      3        2         2       1\n641              3                 1      3        1         2       2\n1534             2                 2      2        1         2       3\n...            ...               ...    ...      ...       ...     ...\n132              1                 1      2        1         3       1\n1313             2                 3      2        1         1       2\n109              1                 1      2        2         1       3\n1504             2                 1      3        1         1       3\n1712             2                 4      3        3         2       2\n\n[1295 rows x 6 columns]>"
     },
     "execution_count": 60,
     "metadata": {},
     "output_type": "execute_result"
    }
   ],
   "source": [
    "X_train.head"
   ]
  },
  {
   "cell_type": "code",
   "execution_count": 61,
   "metadata": {},
   "outputs": [
    {
     "data": {
      "text/plain": "<bound method NDFrame.head of       buying price  maintenance cost  doors  persons  lug boot  safety\n233              1                 2      2        1         1       2\n58               1                 3      4        2         2       3\n772              3                 4      2        3         3       3\n16               1                 3      2        3         3       3\n1533             2                 2      2        1         2       1\n...            ...               ...    ...      ...       ...     ...\n820              3                 4      4        3         1       3\n761              3                 4      2        2         3       2\n812              3                 4      4        2         2       2\n880              4                 3      2        3         3       3\n1661             2                 4      1        3         3       2\n\n[432 rows x 6 columns]>"
     },
     "execution_count": 61,
     "metadata": {},
     "output_type": "execute_result"
    }
   ],
   "source": [
    "X_test.head"
   ]
  },
  {
   "cell_type": "code",
   "execution_count": 62,
   "metadata": {},
   "outputs": [
    {
     "name": "stdout",
     "output_type": "stream",
     "text": [
      "Model accuracy score with 100 decision-trees : 0.8889\n"
     ]
    }
   ],
   "source": [
    "classifier = RandomForestClassifier(random_state=0, n_estimators= 100)\n",
    "\n",
    "classifier.fit(X_train, y_train)\n",
    "y_pred = classifier.predict(X_test)\n",
    "\n",
    "print('Model accuracy score with 100 decision-trees : {0:0.4f}'. format(accuracy_score(y_test, y_pred)))"
   ]
  },
  {
   "cell_type": "code",
   "execution_count": 63,
   "metadata": {},
   "outputs": [
    {
     "data": {
      "text/plain": "safety              0.248963\npersons             0.238385\nbuying price        0.179551\nmaintenance cost    0.159009\ndoors               0.088288\nlug boot            0.085804\ndtype: float64"
     },
     "execution_count": 63,
     "metadata": {},
     "output_type": "execute_result"
    }
   ],
   "source": [
    "\n",
    "feature_scores = pd.Series(classifier.feature_importances_, index=X_train.columns).sort_values(ascending=False)\n",
    "\n",
    "feature_scores"
   ]
  },
  {
   "cell_type": "markdown",
   "metadata": {},
   "source": [
    "the most important feature was safety, lug boot and doors were the least important"
   ]
  },
  {
   "cell_type": "code",
   "execution_count": 64,
   "metadata": {},
   "outputs": [
    {
     "data": {
      "image/png": "[encoded data removed]",
      "text/plain": "<Figure size 432x288 with 1 Axes>"
     },
     "metadata": {
      "needs_background": "light"
     },
     "output_type": "display_data"
    }
   ],
   "source": [
    "sns.barplot(x=feature_scores, y=feature_scores.index)\n",
    "\n",
    "plt.xlabel('Feature Importance Score')\n",
    "plt.ylabel('Features')\n",
    "plt.title(\"different features and they importance\")\n",
    "plt.show()"
   ]
  },
  {
   "cell_type": "code",
   "execution_count": 65,
   "metadata": {},
   "outputs": [],
   "source": [
    "\n",
    "X = X.drop(['doors', 'lug boot'], axis=1)\n"
   ]
  },
  {
   "cell_type": "markdown",
   "metadata": {},
   "source": [
    "drop the two least important features and redo the classification"
   ]
  },
  {
   "cell_type": "code",
   "execution_count": 66,
   "metadata": {},
   "outputs": [
    {
     "name": "stderr",
     "output_type": "stream",
     "text": [
      "/Users/judygitahi/Library/Python/3.8/lib/python/site-packages/category_encoders/utils.py:21: FutureWarning: is_categorical is deprecated and will be removed in a future version.  Use is_categorical_dtype instead\n",
      "  elif pd.api.types.is_categorical(cols):\n"
     ]
    }
   ],
   "source": [
    "X_train, X_test, y_train, y_test = train_test_split(X, y, test_size = 0.25, random_state = 50)\n",
    "encoder = ce.OrdinalEncoder(cols=['buying price', 'maintenance cost', 'persons', 'safety'])\n",
    "\n",
    "\n",
    "X_train = encoder.fit_transform(X_train)\n",
    "\n",
    "X_test = encoder.transform(X_test)"
   ]
  },
  {
   "cell_type": "code",
   "execution_count": 67,
   "metadata": {},
   "outputs": [
    {
     "name": "stdout",
     "output_type": "stream",
     "text": [
      "accuracy score with doors and lug boot variables removed : 0.8634\n"
     ]
    }
   ],
   "source": [
    "classifier = RandomForestClassifier(random_state=0, n_estimators = 100)\n",
    "classifier.fit(X_train, y_train)\n",
    "\n",
    "y_pred = classifier.predict(X_test)\n",
    "print('accuracy score with doors and lug boot variables removed : {0:0.4f}'. format(accuracy_score(y_test, y_pred)))\n"
   ]
  },
  {
   "cell_type": "markdown",
   "metadata": {},
   "source": [
    "removing the two variables reduces the accuracy of the model so maybe not a great idea"
   ]
  },
  {
   "cell_type": "code",
   "execution_count": 68,
   "metadata": {},
   "outputs": [
    {
     "name": "stdout",
     "output_type": "stream",
     "text": [
      "Confusion matrix\n",
      "\n",
      " [[ 75   6  10   3]\n",
      " [  3   3   0   8]\n",
      " [ 21   2 285   2]\n",
      " [  1   3   0  10]]\n"
     ]
    }
   ],
   "source": [
    "from sklearn.metrics import confusion_matrix\n",
    "\n",
    "cm = confusion_matrix(y_test, y_pred)\n",
    "\n",
    "print('Confusion matrix\\n\\n', cm)"
   ]
  },
  {
   "cell_type": "code",
   "execution_count": 69,
   "metadata": {},
   "outputs": [
    {
     "name": "stdout",
     "output_type": "stream",
     "text": [
      "              precision    recall  f1-score   support\n",
      "\n",
      "         acc       0.75      0.80      0.77        94\n",
      "        good       0.21      0.21      0.21        14\n",
      "       unacc       0.97      0.92      0.94       310\n",
      "       vgood       0.43      0.71      0.54        14\n",
      "\n",
      "    accuracy                           0.86       432\n",
      "   macro avg       0.59      0.66      0.62       432\n",
      "weighted avg       0.88      0.86      0.87       432\n",
      "\n"
     ]
    }
   ],
   "source": [
    "from sklearn.metrics import classification_report\n",
    "\n",
    "print(classification_report(y_test, y_pred))"
   ]
  }
 ],
 "metadata": {
  "kernelspec": {
   "display_name": "Python 3.8.2 64-bit",
   "name": "python382jvsc74a57bd031f2aee4e71d21fbe5cf8b01ff0e069b9275f58929596ceb00d14d90e3e16cd6"
  },
  "language_info": {
   "name": "python",
   "version": ""
  },
  "metadata": {
   "interpreter": {
    "hash": "31f2aee4e71d21fbe5cf8b01ff0e069b9275f58929596ceb00d14d90e3e16cd6"
   }
  },
  "orig_nbformat": 2
 },
 "nbformat": 4,
 "nbformat_minor": 2
}